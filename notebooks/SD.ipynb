{
 "cells": [
  {
   "cell_type": "code",
   "execution_count": null,
   "metadata": {},
   "outputs": [],
   "source": [
    "# !pip install diffusers transformers accelerate safetensors --upgrade"
   ]
  },
  {
   "cell_type": "code",
   "execution_count": null,
   "metadata": {},
   "outputs": [],
   "source": [
    "import torch\n",
    "from PIL import Image, ImageFilter\n",
    "\n",
    "from diffusers import AutoPipelineForImage2Image, AutoPipelineForText2Image\n",
    "from diffusers import AutoPipelineForInpainting, ControlNetModel\n",
    "from diffusers import DPMSolverMultistepScheduler, EulerDiscreteScheduler, UniPCMultistepScheduler\n",
    "from diffusers import StableDiffusionPipeline as SDPipeline\n",
    "from diffusers import StableDiffusionControlNetPipeline as SDCNPipeline\n",
    "from diffusers import StableDiffusionImageVariationPipeline as SDIVPipeline\n",
    "from diffusers import StableDiffusionXLImg2ImgPipeline as SDXLI2IPipeline\n",
    "\n",
    "from torchvision import transforms"
   ]
  },
  {
   "cell_type": "markdown",
   "metadata": {},
   "source": [
    "### [Stable Diffusion](https://huggingface.co/stabilityai/stable-diffusion-2)"
   ]
  },
  {
   "cell_type": "code",
   "execution_count": null,
   "metadata": {},
   "outputs": [],
   "source": [
    "pipe = SDPipeline.from_pretrained(\n",
    "  \"CompVis/stable-diffusion-v1-4\",\n",
    "  #\"runwayml/stable-diffusion-v1-5\",\n",
    "  #\"stabilityai/stable-diffusion-2-1\",\n",
    "  safety_checker=None,\n",
    "  torch_dtype=torch.float16\n",
    ").to(\"cuda\")"
   ]
  },
  {
   "cell_type": "code",
   "execution_count": null,
   "metadata": {},
   "outputs": [],
   "source": [
    "pipe.scheduler = DPMSolverMultistepScheduler.from_config(pipe.scheduler.config)\n",
    "# pipe.scheduler = EulerDiscreteScheduler.from_config(pipe.scheduler.config)\n",
    "# pipe.scheduler = UniPCMultistepScheduler.from_config(pipe.scheduler.config)"
   ]
  },
  {
   "cell_type": "code",
   "execution_count": null,
   "metadata": {},
   "outputs": [],
   "source": [
    "out = pipe(\"an egg walking around on the moon\", num_inference_steps=32)\n",
    "display(out[\"images\"][0])"
   ]
  },
  {
   "cell_type": "markdown",
   "metadata": {},
   "source": [
    "### Control Net\n",
    "\n",
    "#### [Scribble](https://huggingface.co/lllyasviel/sd-controlnet-scribble)\n",
    "\n",
    "<img src=\"../imgs/scribble_00.jpg\" width=\"200px\">\n",
    "<img src=\"../imgs/scribble_01.jpg\" width=\"200px\">\n",
    "\n",
    "#### [Depth](https://huggingface.co/lllyasviel/sd-controlnet-depth)\n",
    "\n",
    "<img src=\"../imgs/depth_00.jpg\" width=\"200px\">\n",
    "<img src=\"../imgs/depth_01.jpg\" width=\"200px\">"
   ]
  },
  {
   "cell_type": "code",
   "execution_count": null,
   "metadata": {},
   "outputs": [],
   "source": [
    "controlnet = ControlNetModel.from_pretrained(\n",
    "  \"lllyasviel/sd-controlnet-scribble\",\n",
    "  # \"lllyasviel/sd-controlnet-depth\",\n",
    "  torch_dtype=torch.float16\n",
    ")\n",
    "\n",
    "pipe = SDCNPipeline.from_pretrained(\n",
    "  \"runwayml/stable-diffusion-v1-5\",\n",
    "  controlnet=controlnet,\n",
    "  safety_checker=None,\n",
    "  torch_dtype=torch.float16\n",
    ").to(\"cuda\")"
   ]
  },
  {
   "cell_type": "code",
   "execution_count": null,
   "metadata": {},
   "outputs": [],
   "source": [
    "pipe.scheduler = DPMSolverMultistepScheduler.from_config(pipe.scheduler.config)\n",
    "# pipe.scheduler = EulerDiscreteScheduler.from_config(pipe.scheduler.config)\n",
    "# pipe.scheduler = UniPCMultistepScheduler.from_config(pipe.scheduler.config)"
   ]
  },
  {
   "cell_type": "code",
   "execution_count": null,
   "metadata": {},
   "outputs": [],
   "source": [
    "im = Image.open(\"../imgs/scribble_00.jpg\").convert(\"RGB\")\n",
    "out = pipe(\"person\", im, num_inference_steps=20)\n",
    "display(out[\"images\"][0])"
   ]
  },
  {
   "cell_type": "markdown",
   "metadata": {},
   "source": [
    "### [Turbo](https://huggingface.co/stabilityai/sd-turbo)\n",
    "\n",
    "https://www.reddit.com/r/StableDiffusion/comments/1e6cq09/physical_interfaces_realtime_img2img_diffusion/"
   ]
  },
  {
   "cell_type": "code",
   "execution_count": null,
   "metadata": {},
   "outputs": [],
   "source": [
    "pipe = AutoPipelineForText2Image.from_pretrained(\n",
    "  \"stabilityai/sd-turbo\",\n",
    "  torch_dtype=torch.float16,\n",
    "  variant=\"fp16\"\n",
    ").to(\"cuda\")"
   ]
  },
  {
   "cell_type": "code",
   "execution_count": null,
   "metadata": {},
   "outputs": [],
   "source": [
    "prompt = \"A cinematic shot of a baby racoon wearing an intricate italian priest robe.\"\n",
    "out = pipe(prompt=prompt, num_inference_steps=1, guidance_scale=0.0, num_images_per_prompt=4)\n",
    "display(out[\"images\"][0])"
   ]
  },
  {
   "cell_type": "code",
   "execution_count": null,
   "metadata": {},
   "outputs": [],
   "source": [
    "pipe = AutoPipelineForImage2Image.from_pretrained(\n",
    "  \"stabilityai/sd-turbo\",\n",
    "  torch_dtype=torch.float16,\n",
    "  variant=\"fp16\"\n",
    ").to(\"cuda\")"
   ]
  },
  {
   "cell_type": "code",
   "execution_count": null,
   "metadata": {},
   "outputs": [],
   "source": [
    "im = Image.open(\"./imgs/scribble_01.jpg\").convert(\"RGB\")\n",
    "prompt = \"cat wizard, gandalf, lord of the rings, detailed, fantasy, cute, adorable, Pixar, Disney, 8k\"\n",
    "out = pipe(prompt, image=im, num_inference_steps=2, strength=0.5, guidance_scale=0.0)\n",
    "display(out[\"images\"][0])"
   ]
  },
  {
   "cell_type": "markdown",
   "metadata": {},
   "source": [
    "### [Inpainting](https://huggingface.co/docs/diffusers/en/using-diffusers/inpaint)"
   ]
  },
  {
   "cell_type": "code",
   "execution_count": null,
   "metadata": {},
   "outputs": [],
   "source": [
    "pipe = AutoPipelineForInpainting.from_pretrained(\n",
    "  #\"runwayml/stable-diffusion-inpainting\",\n",
    "  #\"stable-diffusion-v1-5/stable-diffusion-inpainting\",\n",
    "  \"stabilityai/stable-diffusion-2-inpainting\",\n",
    "  torch_dtype=torch.float16,\n",
    "  variant=\"fp16\"\n",
    ").to(\"cuda\")"
   ]
  },
  {
   "cell_type": "code",
   "execution_count": null,
   "metadata": {},
   "outputs": [],
   "source": [
    "im = Image.open(\"./imgs/landscape.jpg\")\n",
    "mask = Image.open(\"./imgs/landscape_mask.jpg\").filter(ImageFilter.GaussianBlur((16,0)))\n",
    "iw,ih = im.size\n",
    "\n",
    "prompt = \"bob ross oil painting of nature landscape with trees, detailed brushstrokes, mountains, lake, rocks\"\n",
    "\n",
    "output = pipe(prompt=prompt, image=im, mask_image=mask, num_inference_steps=24, width=iw, height=ih)\n",
    "display(output.images[0])"
   ]
  },
  {
   "cell_type": "markdown",
   "metadata": {},
   "source": [
    "### [Image Variation](https://huggingface.co/lambdalabs/sd-image-variations-diffusers)"
   ]
  },
  {
   "cell_type": "code",
   "execution_count": null,
   "metadata": {},
   "outputs": [],
   "source": [
    "pipe = SDIVPipeline.from_pretrained(\n",
    "  \"lambdalabs/sd-image-variations-diffusers\",\n",
    "  revision=\"v2.0\",\n",
    "  safety_checker=None\n",
    ").to(\"cuda\")"
   ]
  },
  {
   "cell_type": "code",
   "execution_count": null,
   "metadata": {},
   "outputs": [],
   "source": [
    "pipe.scheduler = DPMSolverMultistepScheduler.from_config(pipe.scheduler.config)\n",
    "# pipe.scheduler = EulerDiscreteScheduler.from_config(pipe.scheduler.config)\n",
    "# pipe.scheduler = UniPCMultistepScheduler.from_config(pipe.scheduler.config)"
   ]
  },
  {
   "cell_type": "code",
   "execution_count": null,
   "metadata": {},
   "outputs": [],
   "source": [
    "im = Image.open(\"../imgs/scribble_01.jpg\").convert(\"RGB\")\n",
    "\n",
    "preprocessor = transforms.Compose([\n",
    "  transforms.ToTensor(),\n",
    "  transforms.Resize(\n",
    "    (224, 224),\n",
    "    interpolation=transforms.InterpolationMode.BICUBIC,\n",
    "    antialias=False),\n",
    "  transforms.Normalize(\n",
    "    [0.48145466, 0.4578275, 0.40821073],\n",
    "    [0.26862954, 0.26130258, 0.27577711]),\n",
    "])\n",
    "\n",
    "inp = preprocessor(im).to(\"cuda\").unsqueeze(0)"
   ]
  },
  {
   "cell_type": "code",
   "execution_count": null,
   "metadata": {},
   "outputs": [],
   "source": [
    "out = pipe(inp, guidance_scale=3, num_inference_steps=64)\n",
    "display(out[\"images\"][0])"
   ]
  },
  {
   "cell_type": "markdown",
   "metadata": {},
   "source": [
    "### [Refiner](https://huggingface.co/stabilityai/stable-diffusion-xl-refiner-1.0)"
   ]
  },
  {
   "cell_type": "code",
   "execution_count": null,
   "metadata": {},
   "outputs": [],
   "source": [
    "pipe = SDXLI2IPipeline.from_pretrained(\n",
    "  \"stabilityai/stable-diffusion-xl-refiner-1.0\",\n",
    "  torch_dtype=torch.float16,\n",
    "  variant=\"fp16\",\n",
    "  use_safetensors=True,\n",
    "  add_watermarker=False\n",
    ").to(\"cuda\")"
   ]
  },
  {
   "cell_type": "code",
   "execution_count": null,
   "metadata": {},
   "outputs": [],
   "source": [
    "pipe.scheduler = DPMSolverMultistepScheduler.from_config(pipe.scheduler.config)\n",
    "# pipe.scheduler = EulerDiscreteScheduler.from_config(pipe.scheduler.config)\n",
    "# pipe.scheduler = UniPCMultistepScheduler.from_config(pipe.scheduler.config)"
   ]
  },
  {
   "cell_type": "code",
   "execution_count": null,
   "metadata": {},
   "outputs": [],
   "source": [
    "im = Image.open(\"../imgs/scribble_01.jpg\").convert(\"RGB\")\n",
    "prompt = \"a photo of a man\"\n",
    "out = pipe(prompt, image=im, num_inference_steps=64)\n",
    "display(out[\"images\"][0])"
   ]
  }
 ],
 "metadata": {
  "kernelspec": {
   "display_name": "gradio",
   "language": "python",
   "name": "python3"
  },
  "language_info": {
   "codemirror_mode": {
    "name": "ipython",
    "version": 3
   },
   "file_extension": ".py",
   "mimetype": "text/x-python",
   "name": "python",
   "nbconvert_exporter": "python",
   "pygments_lexer": "ipython3",
   "version": "3.9.18"
  }
 },
 "nbformat": 4,
 "nbformat_minor": 2
}
