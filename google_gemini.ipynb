{
  "cells": [
    {
      "cell_type": "code",
      "execution_count": null,
      "metadata": {
        "id": "iW2kW_kz-9Ew"
      },
      "outputs": [],
      "source": [
        "import google.generativeai as genai\n",
        "\n",
        "from env import GOOGLE_API_KEY\n",
        "\n",
        "genai.configure(api_key=GOOGLE_API_KEY)"
      ]
    },
    {
      "cell_type": "code",
      "execution_count": null,
      "metadata": {
        "id": "d7-Me0EANvX4"
      },
      "outputs": [],
      "source": [
        "for m in genai.list_models():\n",
        "  print(m.name)"
      ]
    },
    {
      "cell_type": "markdown",
      "metadata": {
        "id": "Y-hjoPcbBX8V"
      },
      "source": [
        "### Text Prompt"
      ]
    },
    {
      "cell_type": "code",
      "execution_count": null,
      "metadata": {
        "id": "P5JZ0vYN_CcI"
      },
      "outputs": [],
      "source": [
        "model = genai.GenerativeModel(\"gemini-1.5-pro\")\n",
        "prompt = \"Explain how AI works in 100 words or less.\"\n",
        "response = model.generate_content(prompt)\n",
        "\n",
        "print(response.text)"
      ]
    },
    {
      "cell_type": "markdown",
      "metadata": {
        "id": "GIeyWkMqBZdp"
      },
      "source": [
        "### Image Description"
      ]
    },
    {
      "cell_type": "code",
      "execution_count": null,
      "metadata": {
        "id": "0VCoVj81BGLs"
      },
      "outputs": [],
      "source": [
        "model = genai.GenerativeModel(\"gemini-1.5-pro\")\n",
        "prompt = \"Caption this image.\"\n",
        "\n",
        "with open(\"./bun-cor.png\", \"rb\") as image_file:\n",
        "  image_b = image_file.read()\n",
        "\n",
        "response = model.generate_content([\n",
        "  {'mime_type':'image/png', 'data': image_b},\n",
        "  prompt\n",
        "])\n",
        "\n",
        "print(response.text)"
      ]
    },
    {
      "cell_type": "markdown",
      "metadata": {},
      "source": [
        "### Image Generation"
      ]
    },
    {
      "cell_type": "code",
      "execution_count": null,
      "metadata": {
        "id": "578mRm6_NpoB"
      },
      "outputs": [],
      "source": [
        "import google.genai as genai_\n",
        "\n",
        "from google.genai.types import Part, GenerateImageConfig\n",
        "\n",
        "genai_client = genai_.Client(api_key=GOOGLE_API_KEY)"
      ]
    },
    {
      "cell_type": "code",
      "execution_count": null,
      "metadata": {
        "id": "h-raKJX9MATr"
      },
      "outputs": [],
      "source": [
        "response = genai_client.models.generate_content(\n",
        "  model=\"gemini-1.5-pro\",\n",
        "  contents=\"explain Gudetama using 100 words\"\n",
        ")\n",
        "\n",
        "print(response.text)"
      ]
    },
    {
      "cell_type": "code",
      "execution_count": null,
      "metadata": {
        "id": "_dO01o1hNk9X"
      },
      "outputs": [],
      "source": [
        "with open(\"./bun-cor.png\", \"rb\") as image_file:\n",
        "  image_b = image_file.read()\n",
        "\n",
        "response = genai_client.models.generate_content(\n",
        "  model=\"gemini-1.5-pro\",\n",
        "  contents=[\n",
        "    Part.from_bytes(image_b, \"image/png\"),\n",
        "    Part.from_text(\"what's in this image?\")\n",
        "  ]\n",
        ")\n",
        "\n",
        "print(response.text)"
      ]
    },
    {
      "cell_type": "code",
      "execution_count": null,
      "metadata": {
        "id": "6_A2oTbnCkW8"
      },
      "outputs": [],
      "source": [
        "response = genai_client.models.generate_image(\n",
        "  model=\"imagen-3.0\",\n",
        "  prompt=\"Fuzzy bunnies in my kitchen\",\n",
        "  config=GenerateImageConfig(\n",
        "    negative_prompt = 'people',\n",
        "    number_of_images = 1,\n",
        "    include_rai_reason = True,\n",
        "    output_mime_type = 'image/jpeg'\n",
        "  )\n",
        ")\n",
        "\n",
        "response.generated_images[0].image.show()"
      ]
    }
  ],
  "metadata": {
    "colab": {
      "provenance": []
    },
    "kernelspec": {
      "display_name": "Python 3",
      "name": "python3"
    },
    "language_info": {
      "name": "python"
    }
  },
  "nbformat": 4,
  "nbformat_minor": 0
}
